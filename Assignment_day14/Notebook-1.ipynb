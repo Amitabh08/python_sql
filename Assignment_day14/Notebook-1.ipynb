{
    "metadata": {
        "kernelspec": {
            "name": "SQL",
            "display_name": "SQL",
            "language": "sql"
        },
        "language_info": {
            "name": "sql",
            "version": ""
        }
    },
    "nbformat_minor": 2,
    "nbformat": 4,
    "cells": [
        {
            "cell_type": "code",
            "source": [
                "USE master;"
            ],
            "metadata": {
                "azdata_cell_guid": "1fa2b7ea-ea24-4925-a025-be8240c0f34f",
                "language": "sql"
            },
            "outputs": [],
            "execution_count": null
        },
        {
            "cell_type": "code",
            "source": [
                "create database books_db;"
            ],
            "metadata": {
                "language": "sql",
                "azdata_cell_guid": "dcd45b11-adb3-452b-a582-5938e8cef344"
            },
            "outputs": [],
            "execution_count": null
        },
        {
            "cell_type": "code",
            "source": [
                "drop database ecolab_books_db"
            ],
            "metadata": {
                "language": "sql",
                "azdata_cell_guid": "04331ba5-e83a-42be-88c2-e415eb6cb26f"
            },
            "outputs": [],
            "execution_count": null
        },
        {
            "cell_type": "code",
            "source": [
                "CREATE TABLE\r\n",
                "    PUBLISHER(\r\n",
                "        ID INT IDENTITY PRIMARY KEY,\r\n",
                "        P_NAME VARCHAR(100) NOT NULL,\r\n",
                "        P_ADDRESS VARCHAR(100) NOT NULL,\r\n",
                "        WEBSITE VARCHAR(100)\r\n",
                "    )"
            ],
            "metadata": {
                "language": "sql",
                "azdata_cell_guid": "bd66f928-3193-4491-b1c3-0dc739dcd946"
            },
            "outputs": [],
            "execution_count": null
        },
        {
            "cell_type": "code",
            "source": [
                "    CREATE TABLE \r\n",
                "    ISBN\r\n",
                "    (\r\n",
                "        ID INT IDENTITY PRIMARY KEY,\r\n",
                "        BOOK_FORMAT VARCHAR(20),\r\n",
                "        PRICE FLOAT,\r\n",
                "        COVER VARCHAR(100),\r\n",
                "        PUBLISHER_ID INT NOT NULL,\r\n",
                "        FOREIGN KEY (PUBLISHER_ID) REFERENCES PUBLISHER(ID) ON DELETE CASCADE ON UPDATE CASCADE\r\n",
                "    )"
            ],
            "metadata": {
                "language": "sql",
                "azdata_cell_guid": "392272e9-243b-43c3-86a8-962d312a0a1e"
            },
            "outputs": [],
            "execution_count": null
        },
        {
            "cell_type": "code",
            "source": [
                "CREATE TABLE\r\n",
                "    AUTHOR\r\n",
                "    (\r\n",
                "        ID INT IDENTITY PRIMARY KEY,\r\n",
                "        AUTHOR_PHOTO VARCHAR(150),\r\n",
                "        NAME VARCHAR(100) NOT NULL,\r\n",
                "        BIO VARCHAR(100)\r\n",
                "    )"
            ],
            "metadata": {
                "language": "sql",
                "azdata_cell_guid": "31f1716d-2407-4592-885c-8affdfd96a8a"
            },
            "outputs": [],
            "execution_count": null
        },
        {
            "cell_type": "code",
            "source": [
                "CREATE TABLE \r\n",
                "    BOOK\r\n",
                "    (\r\n",
                "        ID INT IDENTITY PRIMARY KEY,\r\n",
                "        ISBN INT NOT NULL,\r\n",
                "        TITLE VARCHAR(100),\r\n",
                "        AUTHOR INT NOT NULL,\r\n",
                "        FOREIGN KEY (ISBN) REFERENCES ISBN(ID) ON DELETE CASCADE ON UPDATE CASCADE,\r\n",
                "        FOREIGN KEY (AUTHOR) REFERENCES AUTHOR(ID) ON DELETE CASCADE ON UPDATE CASCADE\r\n",
                "    )"
            ],
            "metadata": {
                "language": "sql",
                "azdata_cell_guid": "7df5d132-b996-4713-ac9a-87c5bae2fcc3"
            },
            "outputs": [],
            "execution_count": null
        },
        {
            "cell_type": "code",
            "source": [
                "CREATE TABLE\r\n",
                "    REVIEWER(\r\n",
                "        ID INT IDENTITY PRIMARY KEY,\r\n",
                "        R_NAME VARCHAR(100) NOT NULL,\r\n",
                "        R_EMAIL VARCHAR(100) NOT NULL\r\n",
                "    )"
            ],
            "metadata": {
                "language": "sql",
                "azdata_cell_guid": "a6c6145e-5e47-456d-93c0-7b6d44010026"
            },
            "outputs": [],
            "execution_count": null
        },
        {
            "cell_type": "code",
            "source": [
                "CREATE TABLE\r\n",
                "    REVIEWS(\r\n",
                "        ID INT IDENTITY PRIMARY KEY,\r\n",
                "        REVIEWER_ID INT NOT NULL,\r\n",
                "        ISBN INT NOT NULL,\r\n",
                "        TITLE VARCHAR(100) NOT NULL,\r\n",
                "        DETAILS VARCHAR(200) NOT NULL,\r\n",
                "        RATING INT NOT NULL DEFAULT(3),\r\n",
                "        FOREIGN KEY (REVIEWER_ID) REFERENCES REVIEWER(ID) ON DELETE CASCADE ON UPDATE CASCADE,\r\n",
                "        FOREIGN KEY (ISBN) REFERENCES ISBN(ID) ON DELETE CASCADE ON UPDATE CASCADE\r\n",
                "    )"
            ],
            "metadata": {
                "language": "sql",
                "azdata_cell_guid": "a33d79bf-4cd3-45e2-a724-36b38d222303"
            },
            "outputs": [],
            "execution_count": null
        },
        {
            "cell_type": "code",
            "source": [
                "CREATE PROCEDURE ADD_PUBLISHER\r\n",
                "    @NAME AS VARCHAR(100),\r\n",
                "    @ADDRESS AS VARCHAR(100),\r\n",
                "    @WEBSITE AS VARCHAR(100)\r\n",
                "AS\r\n",
                "    INSERT INTO\r\n",
                "        PUBLISHER(P_NAME, P_ADDRESS, WEBSITE)\r\n",
                "    VALUES(@NAME, @ADDRESS, @WEBSITE)\r\n",
                "GO"
            ],
            "metadata": {
                "language": "sql",
                "azdata_cell_guid": "551794e5-98f9-455b-974e-014d1c5c52e0"
            },
            "outputs": [],
            "execution_count": null
        },
        {
            "cell_type": "code",
            "source": [
                "CREATE PROCEDURE ADD_BOOK\r\n",
                "    @ISBN INT,\r\n",
                "    @BOOK_FORMAT VARCHAR(20),\r\n",
                "    @PRICE FLOAT,\r\n",
                "    @COVER VARCHAR(100),\r\n",
                "    @PUBLISHER_ID INT,\r\n",
                "AS\r\n",
                "    INSERT INTO\r\n",
                "        BOOK(ISBN, BOOK_FORMAT, PRICE, COVER, PUBLISHER_ID)\r\n",
                "    VALUES(@NAME, @ADDRESS, @WEBSITE)\r\n",
                "GO\r\n",
                ""
            ],
            "metadata": {
                "language": "sql",
                "azdata_cell_guid": "b748de00-c6b0-41e4-9d68-5c57b1af1740"
            },
            "outputs": [],
            "execution_count": null
        }
    ]
}